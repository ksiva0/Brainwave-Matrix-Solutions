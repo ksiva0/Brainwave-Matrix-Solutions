{
 "cells": [
  {
   "cell_type": "markdown",
   "id": "8031d3ec-0ada-4b39-beca-67778b346526",
   "metadata": {},
   "source": [
    "## Fake_News_Detection"
   ]
  },
  {
   "cell_type": "markdown",
   "id": "a4a05be7-20cd-4ff4-94d5-dafe1e73f911",
   "metadata": {},
   "source": [
    "#### Dataset Description\n",
    "This dataset comprises thousands of news items labeled as \"Fake\" or \"Real\", providing a rich foundation for developing and testing machine learning models capable of identifying deceptive information. Each entry in the dataset consists of a news text and a corresponding label, offering a straightforward yet powerful resource for supervised learning projects.\n",
    "\n",
    "### Data Fields\n",
    "* Text: The full text of the news article. This field includes the body of the article, representing a mix of factual reporting, opinions, and potentially misleading information or falsehoods.\n",
    "* Label: A categorical label indicating whether the news article is \"Fake\" or \"Real\". This binary classification makes it suitable for a wide range of machine learning approaches, from traditional models to advanced deep learning techniques."
   ]
  },
  {
   "cell_type": "markdown",
   "id": "6978daf5-ab75-4d3b-82c4-dd89dd627d5a",
   "metadata": {},
   "source": [
    "### Importing Necessary Libraries"
   ]
  },
  {
   "cell_type": "code",
   "execution_count": 10,
   "id": "a4d7c8d8-b1f6-4497-800a-bc9553d546b6",
   "metadata": {},
   "outputs": [],
   "source": [
    "import pandas as pd\n",
    "import numpy as np\n",
    "import matplotlib.pyplot as plt\n",
    "import seaborn as sns"
   ]
  },
  {
   "cell_type": "markdown",
   "id": "fa1dde6e-f1ff-41f3-8e52-54462b25ed1e",
   "metadata": {},
   "source": [
    "### Load the data"
   ]
  },
  {
   "cell_type": "code",
   "execution_count": 12,
   "id": "c657e7c5-3b21-4e00-8359-0c50c94b8f32",
   "metadata": {},
   "outputs": [
    {
     "data": {
      "text/html": [
       "<div>\n",
       "<style scoped>\n",
       "    .dataframe tbody tr th:only-of-type {\n",
       "        vertical-align: middle;\n",
       "    }\n",
       "\n",
       "    .dataframe tbody tr th {\n",
       "        vertical-align: top;\n",
       "    }\n",
       "\n",
       "    .dataframe thead th {\n",
       "        text-align: right;\n",
       "    }\n",
       "</style>\n",
       "<table border=\"1\" class=\"dataframe\">\n",
       "  <thead>\n",
       "    <tr style=\"text-align: right;\">\n",
       "      <th></th>\n",
       "      <th>Text</th>\n",
       "      <th>label</th>\n",
       "    </tr>\n",
       "  </thead>\n",
       "  <tbody>\n",
       "    <tr>\n",
       "      <th>0</th>\n",
       "      <td>Top Trump Surrogate BRUTALLY Stabs Him In The...</td>\n",
       "      <td>Fake</td>\n",
       "    </tr>\n",
       "    <tr>\n",
       "      <th>1</th>\n",
       "      <td>U.S. conservative leader optimistic of common ...</td>\n",
       "      <td>Real</td>\n",
       "    </tr>\n",
       "    <tr>\n",
       "      <th>2</th>\n",
       "      <td>Trump proposes U.S. tax overhaul, stirs concer...</td>\n",
       "      <td>Real</td>\n",
       "    </tr>\n",
       "    <tr>\n",
       "      <th>3</th>\n",
       "      <td>Court Forces Ohio To Allow Millions Of Illega...</td>\n",
       "      <td>Fake</td>\n",
       "    </tr>\n",
       "    <tr>\n",
       "      <th>4</th>\n",
       "      <td>Democrats say Trump agrees to work on immigrat...</td>\n",
       "      <td>Real</td>\n",
       "    </tr>\n",
       "  </tbody>\n",
       "</table>\n",
       "</div>"
      ],
      "text/plain": [
       "                                                Text label\n",
       "0   Top Trump Surrogate BRUTALLY Stabs Him In The...  Fake\n",
       "1  U.S. conservative leader optimistic of common ...  Real\n",
       "2  Trump proposes U.S. tax overhaul, stirs concer...  Real\n",
       "3   Court Forces Ohio To Allow Millions Of Illega...  Fake\n",
       "4  Democrats say Trump agrees to work on immigrat...  Real"
      ]
     },
     "execution_count": 12,
     "metadata": {},
     "output_type": "execute_result"
    }
   ],
   "source": [
    "data = pd.read_csv(r\"C:\\Users\\sivak\\Downloads\\fake_and_real_news.csv\\fake_and_real_news.csv\")\n",
    "data.head()"
   ]
  },
  {
   "cell_type": "code",
   "execution_count": 13,
   "id": "c65ede7d-30b5-4b31-a3ac-62a05b2015a1",
   "metadata": {},
   "outputs": [
    {
     "name": "stdout",
     "output_type": "stream",
     "text": [
      "<class 'pandas.core.frame.DataFrame'>\n",
      "RangeIndex: 9900 entries, 0 to 9899\n",
      "Data columns (total 2 columns):\n",
      " #   Column  Non-Null Count  Dtype \n",
      "---  ------  --------------  ----- \n",
      " 0   Text    9900 non-null   object\n",
      " 1   label   9900 non-null   object\n",
      "dtypes: object(2)\n",
      "memory usage: 154.8+ KB\n"
     ]
    }
   ],
   "source": [
    "data.info()"
   ]
  },
  {
   "cell_type": "code",
   "execution_count": 14,
   "id": "3c4fe9b5-ede4-41a7-9bea-acdfacf05da3",
   "metadata": {},
   "outputs": [
    {
     "data": {
      "text/html": [
       "<div>\n",
       "<style scoped>\n",
       "    .dataframe tbody tr th:only-of-type {\n",
       "        vertical-align: middle;\n",
       "    }\n",
       "\n",
       "    .dataframe tbody tr th {\n",
       "        vertical-align: top;\n",
       "    }\n",
       "\n",
       "    .dataframe thead th {\n",
       "        text-align: right;\n",
       "    }\n",
       "</style>\n",
       "<table border=\"1\" class=\"dataframe\">\n",
       "  <thead>\n",
       "    <tr style=\"text-align: right;\">\n",
       "      <th></th>\n",
       "      <th>Text</th>\n",
       "      <th>label</th>\n",
       "    </tr>\n",
       "  </thead>\n",
       "  <tbody>\n",
       "    <tr>\n",
       "      <th>count</th>\n",
       "      <td>9900</td>\n",
       "      <td>9900</td>\n",
       "    </tr>\n",
       "    <tr>\n",
       "      <th>unique</th>\n",
       "      <td>9865</td>\n",
       "      <td>2</td>\n",
       "    </tr>\n",
       "    <tr>\n",
       "      <th>top</th>\n",
       "      <td>Highlights: The Trump presidency on April 13 a...</td>\n",
       "      <td>Fake</td>\n",
       "    </tr>\n",
       "    <tr>\n",
       "      <th>freq</th>\n",
       "      <td>8</td>\n",
       "      <td>5000</td>\n",
       "    </tr>\n",
       "  </tbody>\n",
       "</table>\n",
       "</div>"
      ],
      "text/plain": [
       "                                                     Text label\n",
       "count                                                9900  9900\n",
       "unique                                               9865     2\n",
       "top     Highlights: The Trump presidency on April 13 a...  Fake\n",
       "freq                                                    8  5000"
      ]
     },
     "execution_count": 14,
     "metadata": {},
     "output_type": "execute_result"
    }
   ],
   "source": [
    "data.describe()"
   ]
  },
  {
   "cell_type": "markdown",
   "id": "09a3f3ef-d69f-4ad8-9d50-4906cb4fc3fa",
   "metadata": {},
   "source": [
    "The dataset has 9,900 records and 9,865 unique text entries, indicating a diverse collection of data. The label \"Fake\" is predominant, appearing 5,000 times, suggesting a potential focus on misinformation. The most common text appears 8 times, highlighting specific content that may need further analysis."
   ]
  },
  {
   "cell_type": "code",
   "execution_count": 16,
   "id": "bcc5c767-63e8-423a-b278-814e7ef69f3b",
   "metadata": {},
   "outputs": [
    {
     "name": "stdout",
     "output_type": "stream",
     "text": [
      "label\n",
      "Fake    5000\n",
      "Real    4900\n",
      "Name: count, dtype: int64\n"
     ]
    },
    {
     "data": {
      "text/plain": [
       "<Axes: xlabel='label', ylabel='count'>"
      ]
     },
     "execution_count": 16,
     "metadata": {},
     "output_type": "execute_result"
    },
    {
     "data": {
      "image/png": "[encoded data removed]",
      "text/plain": [
       "<Figure size 640x480 with 1 Axes>"
      ]
     },
     "metadata": {},
     "output_type": "display_data"
    }
   ],
   "source": [
    "value_counts = data[\"label\"].value_counts()\n",
    "print(value_counts)\n",
    "sns.lineplot(value_counts)"
   ]
  },
  {
   "cell_type": "code",
   "execution_count": null,
   "id": "edd01689-0304-4432-bd5e-2950c546abc6",
   "metadata": {},
   "outputs": [],
   "source": []
  },
  {
   "cell_type": "code",
   "execution_count": 17,
   "id": "fcd52755-d498-4220-b7e5-1dd252d6b65e",
   "metadata": {},
   "outputs": [],
   "source": [
    "import re\n",
    "import string\n",
    "import nltk"
   ]
  },
  {
   "cell_type": "code",
   "execution_count": 18,
   "id": "b35df5a7-323c-4590-bbb3-df9e293388a9",
   "metadata": {
    "scrolled": true
   },
   "outputs": [
    {
     "name": "stderr",
     "output_type": "stream",
     "text": [
      "[nltk_data] Downloading package stopwords to\n",
      "[nltk_data]     C:\\Users\\sivak\\AppData\\Roaming\\nltk_data...\n",
      "[nltk_data]   Package stopwords is already up-to-date!\n"
     ]
    },
    {
     "data": {
      "text/plain": [
       "True"
      ]
     },
     "execution_count": 18,
     "metadata": {},
     "output_type": "execute_result"
    }
   ],
   "source": [
    "nltk.download('stopwords')"
   ]
  },
  {
   "cell_type": "code",
   "execution_count": 19,
   "id": "75a3885f-5a34-4c86-9dd9-09a296bc09dd",
   "metadata": {},
   "outputs": [],
   "source": [
    "from nltk.corpus import stopwords"
   ]
  },
  {
   "cell_type": "code",
   "execution_count": 20,
   "id": "f27cfe7a-64a9-4ae0-97fc-fee14ef97da4",
   "metadata": {},
   "outputs": [],
   "source": [
    "# Text cleaning function\n",
    "def clean_data(text):  \n",
    "    text = text.lower()  \n",
    "    text = re.sub(r'\\d+', '', text)  \n",
    "    text = text.translate(str.maketrans('', '', string.punctuation))  \n",
    "    stop_words = set(stopwords.words('english'))  \n",
    "    return \" \".join(word for word in text.split() if word not in stop_words)"
   ]
  },
  {
   "cell_type": "code",
   "execution_count": 21,
   "id": "c9ba235c-bc7e-41e4-8030-d04ae752d41d",
   "metadata": {},
   "outputs": [],
   "source": [
    "data[\"cleaned_data\"] = data[\"Text\"].apply(clean_data)  # Apply text cleaning\n",
    "data[\"label\"] = data[\"label\"].map({\"Real\": 1, \"Fake\": 0})  # Map labels to binary"
   ]
  },
  {
   "cell_type": "markdown",
   "id": "7c18c738-e38e-4f6d-99e9-ddee853afc66",
   "metadata": {},
   "source": [
    "### Model building"
   ]
  },
  {
   "cell_type": "code",
   "execution_count": 23,
   "id": "44809549-7a1f-4139-b662-b72897edf0cf",
   "metadata": {},
   "outputs": [],
   "source": [
    "from sklearn.model_selection import train_test_split, GridSearchCV  \n",
    "from sklearn.feature_extraction.text import TfidfVectorizer  \n",
    "from sklearn.linear_model import LogisticRegression  \n",
    "from sklearn.ensemble import RandomForestClassifier  \n",
    "from sklearn.svm import SVC  \n",
    "from sklearn.metrics import accuracy_score, classification_report, confusion_matrix"
   ]
  },
  {
   "cell_type": "markdown",
   "id": "945807cf-7fa5-45c3-94b2-91feccc6b7df",
   "metadata": {},
   "source": [
    "#### Split the dataset into training and test sets "
   ]
  },
  {
   "cell_type": "code",
   "execution_count": 25,
   "id": "1c97ad95-d198-4843-a0d9-aacfb31b9c7e",
   "metadata": {},
   "outputs": [],
   "source": [
    " X_train, X_test, y_train, y_test = train_test_split(data[\"cleaned_data\"], data[\"label\"], test_size=0.2, random_state=42)  \n",
    "\n",
    "# Convert text data into TF-IDF features  \n",
    "vectorizer = TfidfVectorizer(max_features=5000)  \n",
    "X_train_tfidf = vectorizer.fit_transform(X_train)  \n",
    "X_test_tfidf = vectorizer.transform(X_test)"
   ]
  },
  {
   "cell_type": "markdown",
   "id": "2b32aed4-2c17-4da5-9fb8-12f44ce0c41e",
   "metadata": {},
   "source": [
    "#### Define models and hyperparameters for tuning "
   ]
  },
  {
   "cell_type": "code",
   "execution_count": 27,
   "id": "35764df0-9cf4-4640-878d-5900d7c35777",
   "metadata": {},
   "outputs": [],
   "source": [
    " models = {  \n",
    "    \"Logistic Regression\": (LogisticRegression(), {  \n",
    "        \"C\": [0.1, 1, 10],  \n",
    "        \"max_iter\": [100, 500, 1000]  \n",
    "    }),  \n",
    "    \"Random Forest\": (RandomForestClassifier(), {  \n",
    "        \"n_estimators\": [100, 200],  \n",
    "        \"max_depth\": [10, 20, None]  \n",
    "    }),  \n",
    "    \"SVM\": (SVC(), {  \n",
    "        \"C\": [0.1, 1, 10],  \n",
    "        \"kernel\": [\"linear\", \"rbf\"]  \n",
    "    }),  \n",
    "}"
   ]
  },
  {
   "cell_type": "markdown",
   "id": "eeae8281-8b86-4712-a08a-98f995916687",
   "metadata": {},
   "source": [
    "#### Perform GridSearchCV for each model and evaluate"
   ]
  },
  {
   "cell_type": "code",
   "execution_count": 29,
   "id": "aebd0e66-6bc9-4826-a368-62d9f1250d67",
   "metadata": {},
   "outputs": [],
   "source": [
    "best_models = {}  \n",
    "best_scores = {}  \n",
    "for model_name, (model, param_grid) in models.items():  \n",
    "    grid_search = GridSearchCV(model, param_grid, cv=5, scoring=\"accuracy\", n_jobs=-1)  \n",
    "    grid_search.fit(X_train_tfidf, y_train)  \n",
    "    best_models[model_name] = grid_search.best_estimator_  \n",
    "    best_scores[model_name] = grid_search.best_score_ "
   ]
  },
  {
   "cell_type": "code",
   "execution_count": 56,
   "id": "0699ac54-1816-47e9-9ca8-9f3dbeeddc97",
   "metadata": {},
   "outputs": [
    {
     "data": {
      "text/plain": [
       "{'Logistic Regression': LogisticRegression(C=10),\n",
       " 'Random Forest': RandomForestClassifier(max_depth=20),\n",
       " 'SVM': SVC(C=10, kernel='linear')}"
      ]
     },
     "execution_count": 56,
     "metadata": {},
     "output_type": "execute_result"
    }
   ],
   "source": [
    "best_models"
   ]
  },
  {
   "cell_type": "markdown",
   "id": "56f7dddb-f846-4543-83a8-e641f5cbfebe",
   "metadata": {},
   "source": [
    "#### Model evaluation on the test set using the best Logistic Regression model as an example"
   ]
  },
  {
   "cell_type": "code",
   "execution_count": 62,
   "id": "c5583dd6-ba1b-4425-825c-4c5ea275aa32",
   "metadata": {},
   "outputs": [],
   "source": [
    "best_model = best_models[\"Logistic Regression\"] \n",
    "y_pred = best_model.predict(X_test_tfidf)  \n",
    "accuracy = accuracy_score(y_test, y_pred)  \n",
    "report = classification_report(y_test, y_pred)"
   ]
  },
  {
   "cell_type": "markdown",
   "id": "723606a9-223f-494d-ab47-056781fc60f1",
   "metadata": {},
   "source": [
    "#### Output the results"
   ]
  },
  {
   "cell_type": "code",
   "execution_count": 65,
   "id": "a65923a3-187f-49d2-82ef-56b1f6eeac48",
   "metadata": {
    "scrolled": true
   },
   "outputs": [
    {
     "name": "stdout",
     "output_type": "stream",
     "text": [
      "Best Scores:  {'Logistic Regression': 0.9950757575757576, 'Random Forest': 0.9993686868686869, 'SVM': 0.9974747474747474}\n",
      "Accuracy of best models:  0.9974747474747475\n",
      "Classification Report:\n",
      "               precision    recall  f1-score   support\n",
      "\n",
      "           0       1.00      1.00      1.00       973\n",
      "           1       1.00      1.00      1.00      1007\n",
      "\n",
      "    accuracy                           1.00      1980\n",
      "   macro avg       1.00      1.00      1.00      1980\n",
      "weighted avg       1.00      1.00      1.00      1980\n",
      "\n"
     ]
    }
   ],
   "source": [
    "print(\"Best Scores: \", best_scores)  \n",
    "print(\"Accuracy of best models: \", accuracy)  \n",
    "print(\"Classification Report:\\n\", report)  "
   ]
  },
  {
   "cell_type": "markdown",
   "id": "f1b1bd04-1e60-42cb-b082-8563f110e1a1",
   "metadata": {},
   "source": [
    "* **Logistic Regression:** Achieved a score of 99.50%.\n",
    "* **Random Forest:** Performed slightly better with a score of 99.94%.\n",
    "* **Support Vector Machine (SVM):** Also did well, with a score of 99.75%.\n",
    "\n",
    "The models, especially Random Forest, show high effectiveness in distinguishing between real and fake news, making them reliable choices for fake news detection."
   ]
  },
  {
   "cell_type": "code",
   "execution_count": 68,
   "id": "1b126b0c-5b51-4328-86ce-d1784001c988",
   "metadata": {},
   "outputs": [
    {
     "data": {
      "image/png": "[encoded data removed]",
      "text/plain": [
       "<Figure size 600x500 with 2 Axes>"
      ]
     },
     "metadata": {},
     "output_type": "display_data"
    }
   ],
   "source": [
    "conf_matrix = confusion_matrix(y_test, y_pred)\n",
    "\n",
    "plt.figure(figsize=(6, 5))\n",
    "sns.heatmap(conf_matrix, annot=True, fmt=\"d\", cmap=\"Blues\", xticklabels=[\"Fake\", \"Real\"], yticklabels=[\"Fake\", \"Real\"])\n",
    "plt.xlabel(\"Predicted Label\")\n",
    "plt.ylabel(\"True Label\")\n",
    "plt.title(\"Confusion Matrix\")\n",
    "plt.show()"
   ]
  },
  {
   "cell_type": "markdown",
   "id": "70443d34-d254-4931-a14c-98f4af828526",
   "metadata": {},
   "source": [
    "* The model is highly effective at distinguishing between fake and real news, with very few errors.\n",
    "* Accuracy is strong, with only 5 misclassifications out of 1980 total articles (969 + 1006).\n",
    "* This indicates the model’s robustness in fake news detection."
   ]
  },
  {
   "cell_type": "code",
   "execution_count": null,
   "id": "12b3e50d-2aeb-411d-9461-a32487ce696b",
   "metadata": {},
   "outputs": [],
   "source": []
  }
 ],
 "metadata": {
  "kernelspec": {
   "display_name": "Python 3 (ipykernel)",
   "language": "python",
   "name": "python3"
  },
  "language_info": {
   "codemirror_mode": {
    "name": "ipython",
    "version": 3
   },
   "file_extension": ".py",
   "mimetype": "text/x-python",
   "name": "python",
   "nbconvert_exporter": "python",
   "pygments_lexer": "ipython3",
   "version": "3.12.3"
  }
 },
 "nbformat": 4,
 "nbformat_minor": 5
}
